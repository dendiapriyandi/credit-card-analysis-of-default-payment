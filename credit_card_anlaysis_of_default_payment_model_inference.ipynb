{
  "cells": [
    {
      "cell_type": "markdown",
      "metadata": {
        "id": "NcP795gVuvwL"
      },
      "source": [
        "# I. MODEL INFERENCE"
      ]
    },
    {
      "cell_type": "markdown",
      "metadata": {
        "id": "7cRnc0whvqm6"
      },
      "source": [
        "Model yang telah dilatih sebelumnya, akan dilakukan uji coba dan tes pada data yang akan dibuat untuk melihat memastikan model tersebut dapat bekerja."
      ]
    },
    {
      "cell_type": "markdown",
      "metadata": {
        "id": "7nDLWVwjwFqZ"
      },
      "source": [
        "## II. IMPORT LIBRARIES"
      ]
    },
    {
      "cell_type": "code",
      "execution_count": 8,
      "metadata": {
        "id": "Q1Ux7_QkugdE"
      },
      "outputs": [],
      "source": [
        "# Import Library\n",
        "\n",
        "import pickle\n",
        "import json\n",
        "import pandas as pd\n",
        "import numpy as np"
      ]
    },
    {
      "cell_type": "markdown",
      "metadata": {
        "id": "gWGa4dMjwU-6"
      },
      "source": [
        "## III. LOAD MODEL"
      ]
    },
    {
      "cell_type": "code",
      "execution_count": 9,
      "metadata": {
        "colab": {
          "base_uri": "https://localhost:8080/"
        },
        "id": "vKL3if0J4NAB",
        "outputId": "09d820d2-9d7c-4005-add1-2c72470d737d"
      },
      "outputs": [
        {
          "name": "stdout",
          "output_type": "stream",
          "text": [
            "Loaded Numerical Columns: ['limit_balance', 'bill_amt_1', 'bill_amt_2', 'bill_amt_3', 'bill_amt_4', 'bill_amt_5', 'bill_amt_6', 'pay_amt_1', 'pay_amt_2', 'pay_amt_3', 'pay_amt_4', 'pay_amt_5', 'pay_amt_6']\n",
            "Loaded Categorical Nominal Columns: ['sex', 'education_level', 'marital_status', 'age']\n",
            "Loaded Categorical Ordinal Columns: ['pay_1', 'pay_2', 'pay_3', 'pay_4', 'pay_5', 'pay_6']\n",
            "Loaded MinMaxScaler Object: MinMaxScaler()\n",
            "Loaded OrdinalEncoder Object: OrdinalEncoder(handle_unknown='use_encoded_value', unknown_value=-1)\n",
            "Loaded OneHotEncoder Object: OneHotEncoder(handle_unknown='ignore')\n",
            "Loaded Best Logistic Regression Model: LogisticRegression(C=0.01, random_state=23)\n",
            "Loaded Best SVM Model: SVC(C=0.1, gamma='auto', random_state=23)\n",
            "Loaded Best KNN Model: KNeighborsClassifier(metric='euclidean', n_neighbors=13)\n",
            "\n",
            "All models and lists loaded successfully!\n"
          ]
        }
      ],
      "source": [
        "# Open (read) the numerical column list\n",
        "with open('list_num_cols_n.txt', 'r') as file_1:\n",
        "    loaded_num_cols_n = json.load(file_1)\n",
        "print(f\"Loaded Numerical Columns: {loaded_num_cols_n}\")\n",
        "\n",
        "# Open (read) the categorical nominal column list\n",
        "with open('list_cat_cols_n.txt', 'r') as file_2:\n",
        "    loaded_cat_cols_n = json.load(file_2)\n",
        "print(f\"Loaded Categorical Nominal Columns: {loaded_cat_cols_n}\")\n",
        "\n",
        "# Open (read) the categorical ordinal column list\n",
        "with open('list_cat_cols_o.txt', 'r') as file_3:\n",
        "    loaded_cat_cols_o = json.load(file_3)\n",
        "print(f\"Loaded Categorical Ordinal Columns: {loaded_cat_cols_o}\")\n",
        "\n",
        "# Open (read) the MinMaxScaler object\n",
        "with open('scaler_minmax.pkl', 'rb') as file_4:\n",
        "    loaded_scaler_minmax = pickle.load(file_4)\n",
        "print(f\"Loaded MinMaxScaler Object: {loaded_scaler_minmax}\")\n",
        "\n",
        "# Open (read) the OrdinalEncoder object\n",
        "with open('encoder_ordinal.pkl', 'rb') as file_5:\n",
        "    loaded_encoder_ordinal = pickle.load(file_5)\n",
        "print(f\"Loaded OrdinalEncoder Object: {loaded_encoder_ordinal}\")\n",
        "\n",
        "# Open (read) the OneHotEncoder object\n",
        "with open('encoder_onehot.pkl', 'rb') as file_6:\n",
        "    loaded_encoder_onehot = pickle.load(file_6)\n",
        "print(f\"Loaded OneHotEncoder Object: {loaded_encoder_onehot}\")\n",
        "\n",
        "# Open (read) the best Logistic Regression model\n",
        "with open('model_logreg_tuned.pkl', 'rb') as file_7:\n",
        "    loaded_best_logreg_model = pickle.load(file_7)\n",
        "print(f\"Loaded Best Logistic Regression Model: {loaded_best_logreg_model}\")\n",
        "\n",
        "# Open (read) the best SVM model\n",
        "with open('model_svm_tuned.pkl', 'rb') as file_8:\n",
        "    loaded_best_svm_model = pickle.load(file_8)\n",
        "print(f\"Loaded Best SVM Model: {loaded_best_svm_model}\")\n",
        "\n",
        "# Open (read) the best KNN model\n",
        "with open('model_knn_tuned.pkl', 'rb') as file_9:\n",
        "    loaded_best_knn_model = pickle.load(file_9)\n",
        "print(f\"Loaded Best KNN Model: {loaded_best_knn_model}\")\n",
        "\n",
        "print(\"\\nAll models and lists loaded successfully!\")"
      ]
    },
    {
      "cell_type": "markdown",
      "metadata": {
        "id": "YAdeN-hDy9hn"
      },
      "source": [
        "## IV. INFERENCING"
      ]
    },
    {
      "cell_type": "markdown",
      "metadata": {
        "id": "Zq06fG7IILWr"
      },
      "source": [
        "Choose `DataFrame 1` or `DataFrame 2` for test the result:"
      ]
    },
    {
      "cell_type": "markdown",
      "metadata": {
        "id": "I2RbdXIRHtce"
      },
      "source": [
        "- Data Frame 1 (For Trial):"
      ]
    },
    {
      "cell_type": "code",
      "execution_count": 10,
      "metadata": {
        "colab": {
          "base_uri": "https://localhost:8080/",
          "height": 224
        },
        "id": "zYb-qdshIgaO",
        "outputId": "135f0328-2a79-43e1-bec5-a18c18f64801"
      },
      "outputs": [
        {
          "data": {
            "text/html": [
              "<div>\n",
              "<style scoped>\n",
              "    .dataframe tbody tr th:only-of-type {\n",
              "        vertical-align: middle;\n",
              "    }\n",
              "\n",
              "    .dataframe tbody tr th {\n",
              "        vertical-align: top;\n",
              "    }\n",
              "\n",
              "    .dataframe thead th {\n",
              "        text-align: right;\n",
              "    }\n",
              "</style>\n",
              "<table border=\"1\" class=\"dataframe\">\n",
              "  <thead>\n",
              "    <tr style=\"text-align: right;\">\n",
              "      <th></th>\n",
              "      <th>limit_balance</th>\n",
              "      <th>sex</th>\n",
              "      <th>education_level</th>\n",
              "      <th>marital_status</th>\n",
              "      <th>age</th>\n",
              "      <th>pay_1</th>\n",
              "      <th>pay_2</th>\n",
              "      <th>pay_3</th>\n",
              "      <th>pay_4</th>\n",
              "      <th>pay_5</th>\n",
              "      <th>...</th>\n",
              "      <th>bill_amt_3</th>\n",
              "      <th>bill_amt_4</th>\n",
              "      <th>bill_amt_5</th>\n",
              "      <th>bill_amt_6</th>\n",
              "      <th>pay_amt_1</th>\n",
              "      <th>pay_amt_2</th>\n",
              "      <th>pay_amt_3</th>\n",
              "      <th>pay_amt_4</th>\n",
              "      <th>pay_amt_5</th>\n",
              "      <th>pay_amt_6</th>\n",
              "    </tr>\n",
              "  </thead>\n",
              "  <tbody>\n",
              "    <tr>\n",
              "      <th>0</th>\n",
              "      <td>100000</td>\n",
              "      <td>2</td>\n",
              "      <td>2</td>\n",
              "      <td>1</td>\n",
              "      <td>30</td>\n",
              "      <td>0</td>\n",
              "      <td>0</td>\n",
              "      <td>0</td>\n",
              "      <td>0</td>\n",
              "      <td>0</td>\n",
              "      <td>...</td>\n",
              "      <td>6000</td>\n",
              "      <td>5000</td>\n",
              "      <td>4000</td>\n",
              "      <td>3000</td>\n",
              "      <td>1000</td>\n",
              "      <td>1000</td>\n",
              "      <td>1000</td>\n",
              "      <td>1000</td>\n",
              "      <td>1000</td>\n",
              "      <td>1000</td>\n",
              "    </tr>\n",
              "    <tr>\n",
              "      <th>1</th>\n",
              "      <td>200000</td>\n",
              "      <td>1</td>\n",
              "      <td>1</td>\n",
              "      <td>2</td>\n",
              "      <td>45</td>\n",
              "      <td>-1</td>\n",
              "      <td>-1</td>\n",
              "      <td>-1</td>\n",
              "      <td>-1</td>\n",
              "      <td>-1</td>\n",
              "      <td>...</td>\n",
              "      <td>3000</td>\n",
              "      <td>2000</td>\n",
              "      <td>1000</td>\n",
              "      <td>500</td>\n",
              "      <td>500</td>\n",
              "      <td>500</td>\n",
              "      <td>500</td>\n",
              "      <td>500</td>\n",
              "      <td>500</td>\n",
              "      <td>500</td>\n",
              "    </tr>\n",
              "    <tr>\n",
              "      <th>2</th>\n",
              "      <td>50000</td>\n",
              "      <td>2</td>\n",
              "      <td>3</td>\n",
              "      <td>1</td>\n",
              "      <td>25</td>\n",
              "      <td>2</td>\n",
              "      <td>2</td>\n",
              "      <td>2</td>\n",
              "      <td>2</td>\n",
              "      <td>2</td>\n",
              "      <td>...</td>\n",
              "      <td>20000</td>\n",
              "      <td>18000</td>\n",
              "      <td>15000</td>\n",
              "      <td>12000</td>\n",
              "      <td>0</td>\n",
              "      <td>0</td>\n",
              "      <td>0</td>\n",
              "      <td>0</td>\n",
              "      <td>0</td>\n",
              "      <td>0</td>\n",
              "    </tr>\n",
              "    <tr>\n",
              "      <th>3</th>\n",
              "      <td>150000</td>\n",
              "      <td>1</td>\n",
              "      <td>2</td>\n",
              "      <td>3</td>\n",
              "      <td>38</td>\n",
              "      <td>0</td>\n",
              "      <td>0</td>\n",
              "      <td>0</td>\n",
              "      <td>0</td>\n",
              "      <td>0</td>\n",
              "      <td>...</td>\n",
              "      <td>8000</td>\n",
              "      <td>7000</td>\n",
              "      <td>6000</td>\n",
              "      <td>5000</td>\n",
              "      <td>1000</td>\n",
              "      <td>1000</td>\n",
              "      <td>1000</td>\n",
              "      <td>1000</td>\n",
              "      <td>1000</td>\n",
              "      <td>1000</td>\n",
              "    </tr>\n",
              "  </tbody>\n",
              "</table>\n",
              "<p>4 rows × 23 columns</p>\n",
              "</div>"
            ],
            "text/plain": [
              "   limit_balance  sex  education_level  marital_status  age  pay_1  pay_2  \\\n",
              "0         100000    2                2               1   30      0      0   \n",
              "1         200000    1                1               2   45     -1     -1   \n",
              "2          50000    2                3               1   25      2      2   \n",
              "3         150000    1                2               3   38      0      0   \n",
              "\n",
              "   pay_3  pay_4  pay_5  ...  bill_amt_3  bill_amt_4  bill_amt_5  bill_amt_6  \\\n",
              "0      0      0      0  ...        6000        5000        4000        3000   \n",
              "1     -1     -1     -1  ...        3000        2000        1000         500   \n",
              "2      2      2      2  ...       20000       18000       15000       12000   \n",
              "3      0      0      0  ...        8000        7000        6000        5000   \n",
              "\n",
              "   pay_amt_1  pay_amt_2  pay_amt_3  pay_amt_4  pay_amt_5  pay_amt_6  \n",
              "0       1000       1000       1000       1000       1000       1000  \n",
              "1        500        500        500        500        500        500  \n",
              "2          0          0          0          0          0          0  \n",
              "3       1000       1000       1000       1000       1000       1000  \n",
              "\n",
              "[4 rows x 23 columns]"
            ]
          },
          "execution_count": 10,
          "metadata": {},
          "output_type": "execute_result"
        }
      ],
      "source": [
        "# Create new data for inference\n",
        "new_data = pd.DataFrame({\n",
        "    'limit_balance': [100000, 200000, 50000, 150000],\n",
        "    'sex': [2, 1, 2, 1],  # 1=male, 2=female\n",
        "    'education_level': [2, 1, 3, 2], # 1=graduate school, 2=university, 3=high school, 4=others\n",
        "    'marital_status': [1, 2, 1, 3], # 1=married, 2=single, 3=others\n",
        "    'age': [30, 45, 25, 38],\n",
        "    'pay_1': [0, -1, 2, 0], # Repayment status in September, 2005\n",
        "    'pay_2': [0, -1, 2, 0], # Repayment status in August, 2005\n",
        "    'pay_3': [0, -1, 2, 0], # Repayment status in July, 2005\n",
        "    'pay_4': [0, -1, 2, 0], # Repayment status in June, 2005\n",
        "    'pay_5': [0, -1, 2, 0], # Repayment status in May, 2005\n",
        "    'pay_6': [0, -1, 2, 0], # Repayment status in April, 2005\n",
        "    'bill_amt_1': [10000, 5000, 30000, 12000],\n",
        "    'bill_amt_2': [8000, 4000, 25000, 10000],\n",
        "    'bill_amt_3': [6000, 3000, 20000, 8000],\n",
        "    'bill_amt_4': [5000, 2000, 18000, 7000],\n",
        "    'bill_amt_5': [4000, 1000, 15000, 6000],\n",
        "    'bill_amt_6': [3000, 500, 12000, 5000],\n",
        "    'pay_amt_1': [1000, 500, 0, 1000],\n",
        "    'pay_amt_2': [1000, 500, 0, 1000],\n",
        "    'pay_amt_3': [1000, 500, 0, 1000],\n",
        "    'pay_amt_4': [1000, 500, 0, 1000],\n",
        "    'pay_amt_5': [1000, 500, 0, 1000],\n",
        "    'pay_amt_6': [1000, 500, 0, 1000],\n",
        "})\n",
        "\n",
        "data_inf = new_data\n",
        "data_inf"
      ]
    },
    {
      "cell_type": "markdown",
      "metadata": {
        "id": "am4Q3dYqIe3M"
      },
      "source": [
        "- Data Frame 2 (For Trial):"
      ]
    },
    {
      "cell_type": "code",
      "execution_count": 11,
      "metadata": {
        "id": "LY6cMfld6RMA"
      },
      "outputs": [],
      "source": [
        "# # Create new data for inference\n",
        "# new_data = {\n",
        "#     'limit_balance': 100000,\n",
        "#     'sex': 2,  # 1=male, 2=female\n",
        "#     'education_level': 2, # 1=graduate school, 2=university, 3=high school, 4=others\n",
        "#     'marital_status': 1, # 1=married, 2=single, 3=others\n",
        "#     'age': 30,\n",
        "#     'pay_1': 0, # Repayment status in September, 2005\n",
        "#     'pay_2': 0, # Repayment status in August, 2005\n",
        "#     'pay_3': 0, # Repayment status in July, 2005\n",
        "#     'pay_4': 0, # Repayment status in June, 2005\n",
        "#     'pay_5': 0, # Repayment status in May, 2005\n",
        "#     'pay_6': 0, # Repayment status in April, 2005\n",
        "#     'bill_amt_1': 10000,\n",
        "#     'bill_amt_2': 8000,\n",
        "#     'bill_amt_3': 6000,\n",
        "#     'bill_amt_4': 5000,\n",
        "#     'bill_amt_5': 4000,\n",
        "#     'bill_amt_6': 3000,\n",
        "#     'pay_amt_1': 1000,\n",
        "#     'pay_amt_2': 1000,\n",
        "#     'pay_amt_3': 1000,\n",
        "#     'pay_amt_4': 1000,\n",
        "#     'pay_amt_5': 1000,\n",
        "#     'pay_amt_6': 1000,\n",
        "# }\n",
        "\n",
        "# data_inf = pd.DataFrame([new_data])\n",
        "# data_inf"
      ]
    },
    {
      "cell_type": "code",
      "execution_count": 12,
      "metadata": {
        "id": "yVmvcJAd5loj"
      },
      "outputs": [],
      "source": [
        "# Separate numerical and categorical columns for the new data\n",
        "data_inf_num = data_inf[loaded_num_cols_n]\n",
        "data_inf_cat_o = data_inf[loaded_cat_cols_o]\n",
        "data_inf_cat_n = data_inf[loaded_cat_cols_n]"
      ]
    },
    {
      "cell_type": "code",
      "execution_count": 13,
      "metadata": {
        "id": "E882x5FV6-_k"
      },
      "outputs": [],
      "source": [
        "# Scale numerical features using the *fitted* scaler\n",
        "data_inf_num_scaled = loaded_scaler_minmax.transform(data_inf_num[['limit_balance']])\n",
        "\n",
        "# Encode ordinal categorical features using the *fitted* encoder\n",
        "data_inf_cat_encoded = loaded_encoder_ordinal.transform(data_inf_cat_o)\n",
        "\n",
        "# Encode nominal categorical features using the *fitted* OneHotEncoder\n",
        "data_inf_cat_encoded_n = loaded_encoder_onehot.transform(data_inf_cat_n).toarray()\n",
        "\n",
        "# Concatenate the processed features for the new data\n",
        "data_inf_final = np.concatenate([data_inf_num_scaled, data_inf_cat_encoded, data_inf_cat_encoded_n], axis=1)\n"
      ]
    },
    {
      "cell_type": "code",
      "execution_count": 14,
      "metadata": {
        "colab": {
          "base_uri": "https://localhost:8080/",
          "height": 353
        },
        "id": "zjEkwbIb-O8g",
        "outputId": "12b3b521-ec85-4a37-f7c8-80506b6d7df0"
      },
      "outputs": [
        {
          "name": "stdout",
          "output_type": "stream",
          "text": [
            "Predictions for new data:\n",
            "[False False  True False]\n",
            "\n",
            "Prediction Labels:\n",
            "['No Default', 'No Default', 'Default', 'No Default']\n",
            "\n",
            "New Data with Predictions:\n"
          ]
        },
        {
          "data": {
            "text/html": [
              "<div>\n",
              "<style scoped>\n",
              "    .dataframe tbody tr th:only-of-type {\n",
              "        vertical-align: middle;\n",
              "    }\n",
              "\n",
              "    .dataframe tbody tr th {\n",
              "        vertical-align: top;\n",
              "    }\n",
              "\n",
              "    .dataframe thead th {\n",
              "        text-align: right;\n",
              "    }\n",
              "</style>\n",
              "<table border=\"1\" class=\"dataframe\">\n",
              "  <thead>\n",
              "    <tr style=\"text-align: right;\">\n",
              "      <th></th>\n",
              "      <th>limit_balance</th>\n",
              "      <th>sex</th>\n",
              "      <th>education_level</th>\n",
              "      <th>marital_status</th>\n",
              "      <th>age</th>\n",
              "      <th>pay_1</th>\n",
              "      <th>pay_2</th>\n",
              "      <th>pay_3</th>\n",
              "      <th>pay_4</th>\n",
              "      <th>pay_5</th>\n",
              "      <th>...</th>\n",
              "      <th>bill_amt_4</th>\n",
              "      <th>bill_amt_5</th>\n",
              "      <th>bill_amt_6</th>\n",
              "      <th>pay_amt_1</th>\n",
              "      <th>pay_amt_2</th>\n",
              "      <th>pay_amt_3</th>\n",
              "      <th>pay_amt_4</th>\n",
              "      <th>pay_amt_5</th>\n",
              "      <th>pay_amt_6</th>\n",
              "      <th>predicted_default</th>\n",
              "    </tr>\n",
              "  </thead>\n",
              "  <tbody>\n",
              "    <tr>\n",
              "      <th>0</th>\n",
              "      <td>100000</td>\n",
              "      <td>2</td>\n",
              "      <td>2</td>\n",
              "      <td>1</td>\n",
              "      <td>30</td>\n",
              "      <td>0</td>\n",
              "      <td>0</td>\n",
              "      <td>0</td>\n",
              "      <td>0</td>\n",
              "      <td>0</td>\n",
              "      <td>...</td>\n",
              "      <td>5000</td>\n",
              "      <td>4000</td>\n",
              "      <td>3000</td>\n",
              "      <td>1000</td>\n",
              "      <td>1000</td>\n",
              "      <td>1000</td>\n",
              "      <td>1000</td>\n",
              "      <td>1000</td>\n",
              "      <td>1000</td>\n",
              "      <td>False</td>\n",
              "    </tr>\n",
              "    <tr>\n",
              "      <th>1</th>\n",
              "      <td>200000</td>\n",
              "      <td>1</td>\n",
              "      <td>1</td>\n",
              "      <td>2</td>\n",
              "      <td>45</td>\n",
              "      <td>-1</td>\n",
              "      <td>-1</td>\n",
              "      <td>-1</td>\n",
              "      <td>-1</td>\n",
              "      <td>-1</td>\n",
              "      <td>...</td>\n",
              "      <td>2000</td>\n",
              "      <td>1000</td>\n",
              "      <td>500</td>\n",
              "      <td>500</td>\n",
              "      <td>500</td>\n",
              "      <td>500</td>\n",
              "      <td>500</td>\n",
              "      <td>500</td>\n",
              "      <td>500</td>\n",
              "      <td>False</td>\n",
              "    </tr>\n",
              "    <tr>\n",
              "      <th>2</th>\n",
              "      <td>50000</td>\n",
              "      <td>2</td>\n",
              "      <td>3</td>\n",
              "      <td>1</td>\n",
              "      <td>25</td>\n",
              "      <td>2</td>\n",
              "      <td>2</td>\n",
              "      <td>2</td>\n",
              "      <td>2</td>\n",
              "      <td>2</td>\n",
              "      <td>...</td>\n",
              "      <td>18000</td>\n",
              "      <td>15000</td>\n",
              "      <td>12000</td>\n",
              "      <td>0</td>\n",
              "      <td>0</td>\n",
              "      <td>0</td>\n",
              "      <td>0</td>\n",
              "      <td>0</td>\n",
              "      <td>0</td>\n",
              "      <td>True</td>\n",
              "    </tr>\n",
              "    <tr>\n",
              "      <th>3</th>\n",
              "      <td>150000</td>\n",
              "      <td>1</td>\n",
              "      <td>2</td>\n",
              "      <td>3</td>\n",
              "      <td>38</td>\n",
              "      <td>0</td>\n",
              "      <td>0</td>\n",
              "      <td>0</td>\n",
              "      <td>0</td>\n",
              "      <td>0</td>\n",
              "      <td>...</td>\n",
              "      <td>7000</td>\n",
              "      <td>6000</td>\n",
              "      <td>5000</td>\n",
              "      <td>1000</td>\n",
              "      <td>1000</td>\n",
              "      <td>1000</td>\n",
              "      <td>1000</td>\n",
              "      <td>1000</td>\n",
              "      <td>1000</td>\n",
              "      <td>False</td>\n",
              "    </tr>\n",
              "  </tbody>\n",
              "</table>\n",
              "<p>4 rows × 24 columns</p>\n",
              "</div>"
            ],
            "text/plain": [
              "   limit_balance  sex  education_level  marital_status  age  pay_1  pay_2  \\\n",
              "0         100000    2                2               1   30      0      0   \n",
              "1         200000    1                1               2   45     -1     -1   \n",
              "2          50000    2                3               1   25      2      2   \n",
              "3         150000    1                2               3   38      0      0   \n",
              "\n",
              "   pay_3  pay_4  pay_5  ...  bill_amt_4  bill_amt_5  bill_amt_6  pay_amt_1  \\\n",
              "0      0      0      0  ...        5000        4000        3000       1000   \n",
              "1     -1     -1     -1  ...        2000        1000         500        500   \n",
              "2      2      2      2  ...       18000       15000       12000          0   \n",
              "3      0      0      0  ...        7000        6000        5000       1000   \n",
              "\n",
              "   pay_amt_2  pay_amt_3  pay_amt_4  pay_amt_5  pay_amt_6  predicted_default  \n",
              "0       1000       1000       1000       1000       1000              False  \n",
              "1        500        500        500        500        500              False  \n",
              "2          0          0          0          0          0               True  \n",
              "3       1000       1000       1000       1000       1000              False  \n",
              "\n",
              "[4 rows x 24 columns]"
            ]
          },
          "execution_count": 14,
          "metadata": {},
          "output_type": "execute_result"
        }
      ],
      "source": [
        "\n",
        "# Make predictions on the new data\n",
        "predictions = loaded_best_logreg_model.predict(data_inf_final)\n",
        "\n",
        "# # Convert boolean predictions back to 0/1 if needed for interpretation\n",
        "# predictions = predictions.astype(int)\n",
        "\n",
        "print(\"Predictions for new data:\")\n",
        "print(predictions)\n",
        "\n",
        "# Map the predictions to meaningful labels\n",
        "prediction_labels = ['No Default' if pred == False else 'Default' for pred in predictions]\n",
        "print(\"\\nPrediction Labels:\")\n",
        "print(prediction_labels)\n",
        "\n",
        "# You can also add the predictions to the original data_inf DataFrame\n",
        "data_inf['predicted_default'] = predictions\n",
        "print(\"\\nNew Data with Predictions:\")\n",
        "\n",
        "data_inf"
      ]
    }
  ],
  "metadata": {
    "colab": {
      "provenance": []
    },
    "kernelspec": {
      "display_name": "base",
      "language": "python",
      "name": "python3"
    },
    "language_info": {
      "codemirror_mode": {
        "name": "ipython",
        "version": 3
      },
      "file_extension": ".py",
      "mimetype": "text/x-python",
      "name": "python",
      "nbconvert_exporter": "python",
      "pygments_lexer": "ipython3",
      "version": "3.12.2"
    }
  },
  "nbformat": 4,
  "nbformat_minor": 0
}
